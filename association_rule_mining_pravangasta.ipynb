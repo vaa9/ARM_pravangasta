{
  "nbformat": 4,
  "nbformat_minor": 0,
  "metadata": {
    "colab": {
      "provenance": []
    },
    "kernelspec": {
      "name": "python3",
      "display_name": "Python 3"
    },
    "language_info": {
      "name": "python"
    }
  },
  "cells": [
    {
      "cell_type": "markdown",
      "source": [
        "**Association Rule Mining**\n",
        "\n",
        "Association rule mining adalah bagian dari machine learning berbasis aturan yang digunakan untuk menemukan hubungan dan pola antara berbagai item dalam skala besar kumpulan data. Aturan asosiasi(Association Rule) ingin memberikan informasi tersebut dalam bentuk hubungan “if-then” atau “jika-maka” yang dihitung dari data yang sifatnya probabilistik.\n",
        "\n",
        "Seperti pada contohnya yaitu pembelian disuatu toko yang dapat menyebabkan pembelian barang lain ditoko tersebut. Dengan menggunakan data semua item yang dibeli, kita dapat menentukan item mana yang biasanya dibeli atau dibeli bersama, sehingga mendefinisikan dan membangun model asosiasi produk."
      ],
      "metadata": {
        "id": "-MZpsYo5T4bV"
      }
    },
    {
      "cell_type": "markdown",
      "source": [
        "Chapman, C. and Feit, E.M.D. (2015) “Association rules for Market Basket Analysis,” R for Marketing Research and Analytics, pp. 339–361.\n",
        "\n",
        "Dutta, A. (2020) “Association Rule Mining for Market Basket Analysis.” Kolkata, INDIA: NSHM Knowledge Campus, Kolkata, INDIA. \n",
        "\n",
        "Zhao, Y. (2013) “Association rules,” R and Data Mining, pp. 89–103. "
      ],
      "metadata": {
        "id": "94jjvfkAifvT"
      }
    }
  ]
}